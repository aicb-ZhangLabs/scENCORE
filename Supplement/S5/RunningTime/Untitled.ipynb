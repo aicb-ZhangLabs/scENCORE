{
 "cells": [
  {
   "cell_type": "code",
   "execution_count": 1,
   "id": "c69d9fec",
   "metadata": {},
   "outputs": [],
   "source": [
    "import numpy as np"
   ]
  },
  {
   "cell_type": "code",
   "execution_count": 10,
   "id": "361d4518",
   "metadata": {},
   "outputs": [],
   "source": [
    "time = []\n",
    "with open(\"./verse_sbatch_100K_es128.log\") as file:\n",
    "    line = file.readline()\n",
    "    while(line):\n",
    "        if line[:17] == \"Calculations took\":\n",
    "#             print(line.split(\".\")[0].split(\" \")[-1],line.split(\".\")[1].split(\" \")[0])\n",
    "            time.append(int(line.split(\".\")[0].split(\" \")[-1])+0.01*int(line.split(\".\")[1].split(\" \")[0]))\n",
    "        line = file.readline()"
   ]
  },
  {
   "cell_type": "code",
   "execution_count": 11,
   "id": "bc434caf",
   "metadata": {},
   "outputs": [
    {
     "data": {
      "text/plain": [
       "1167.0303875968993"
      ]
     },
     "execution_count": 11,
     "metadata": {},
     "output_type": "execute_result"
    }
   ],
   "source": [
    "np.mean(time)"
   ]
  },
  {
   "cell_type": "code",
   "execution_count": null,
   "id": "a3e738ca",
   "metadata": {},
   "outputs": [],
   "source": []
  }
 ],
 "metadata": {
  "kernelspec": {
   "display_name": "Python 3 (ipykernel)",
   "language": "python",
   "name": "python3"
  },
  "language_info": {
   "codemirror_mode": {
    "name": "ipython",
    "version": 3
   },
   "file_extension": ".py",
   "mimetype": "text/x-python",
   "name": "python",
   "nbconvert_exporter": "python",
   "pygments_lexer": "ipython3",
   "version": "3.9.7"
  }
 },
 "nbformat": 4,
 "nbformat_minor": 5
}
