{
 "cells": [
  {
   "cell_type": "code",
   "execution_count": 2,
   "metadata": {},
   "outputs": [],
   "source": [
    "from typing import Dict\n",
    "\n",
    "import numpy as np"
   ]
  },
  {
   "cell_type": "code",
   "execution_count": 63,
   "metadata": {},
   "outputs": [],
   "source": [
    "class Embedding(object):\n",
    "    def __init__(self, embedding_path: str, dimensions: int, index_path: str = None):\n",
    "        self.dimensions = dimensions\n",
    "        self.embeddings = self.load_embeddings(embedding_path)\n",
    "        self.index: Dict[str, int] = {}\n",
    "        if index_path:\n",
    "            self.load_index(index_path)\n",
    "\n",
    "    def load_embeddings(self, file_name: str) -> np.ndarray:\n",
    "        print(\"Loading embeddings...\")\n",
    "        embeddings = np.fromfile(file_name, dtype=np.float32)\n",
    "        length = embeddings.shape[0]\n",
    "        assert length % self.dimensions == 0, f\"The number of floats ({length}) in the embeddings is not divisible by\" \\\n",
    "                                              f\"the number of dimensions ({self.dimensions})!\"\n",
    "        embedding_shape = [int(length / self.dimensions), self.dimensions]\n",
    "        self.embedding_shape = embedding_shape\n",
    "        embeddings = embeddings.reshape(embedding_shape)\n",
    "        print(f\"Done loading embeddings (shape: {embeddings.shape}).\")\n",
    "        return embeddings\n",
    "\n",
    "    def load_index(self, index_path: str) -> None:\n",
    "        print(\"Loading uri index...\")\n",
    "        with open(index_path, \"r\") as file:\n",
    "            for line in [line.strip() for line in file.readlines()]:\n",
    "                index, uri = line.split(\",\", 1)\n",
    "                self.index[uri] = int(index)\n",
    "        print(f\"Done loading {len(self.index)} items.\")\n",
    "\n",
    "    def __getitem__(self, item) -> np.ndarray:\n",
    "        if self.index and isinstance(item, str):\n",
    "            return self.embeddings[self.index[item]]\n",
    "        return self.embeddings[item]\n",
    "    \n",
    "    def save_emb(self, path):\n",
    "        for i in range(self.embedding_shape[0]):\n",
    "            if i == 0:\n",
    "                emb = self.embeddings[0]\n",
    "            else:\n",
    "                emb = np.vstack((emb,self.embeddings[i]))\n",
    "        np.save(path, emb)"
   ]
  },
  {
   "cell_type": "code",
   "execution_count": 64,
   "metadata": {},
   "outputs": [],
   "source": [
    "embedding_file = \"/auto/grad_space/zihend1/Share2ZHD/brg/brg.bin\""
   ]
  },
  {
   "cell_type": "code",
   "execution_count": 65,
   "metadata": {},
   "outputs": [
    {
     "name": "stdout",
     "output_type": "stream",
     "text": [
      "Loading embeddings...\n",
      "Done loading embeddings (shape: (2329, 32)).\n"
     ]
    }
   ],
   "source": [
    "embeddings = Embedding(embedding_file, 32)"
   ]
  },
  {
   "cell_type": "code",
   "execution_count": 66,
   "metadata": {},
   "outputs": [
    {
     "data": {
      "text/plain": [
       "<__main__.Embedding at 0x7f1b307e2c50>"
      ]
     },
     "execution_count": 66,
     "metadata": {},
     "output_type": "execute_result"
    }
   ],
   "source": [
    "embeddings"
   ]
  },
  {
   "cell_type": "code",
   "execution_count": 67,
   "metadata": {},
   "outputs": [],
   "source": [
    "embeddings.save_emb(\"/auto/grad_space/zihend1/Share2ZHD/brg/Embedding/corr_0_1_VERSE_32.npy\")\n",
    "    "
   ]
  },
  {
   "cell_type": "code",
   "execution_count": 42,
   "metadata": {},
   "outputs": [
    {
     "data": {
      "text/plain": [
       "array([ 0.02037145,  0.13432764,  0.01309271,  0.39039606, -0.76974106,\n",
       "        1.0238374 , -0.58959   ,  0.41066727,  0.01498546,  0.7730111 ,\n",
       "       -0.2811818 ,  0.99664915, -0.11794065, -0.5930427 ,  0.6803926 ,\n",
       "        0.7091467 ,  0.33965772, -0.29503277,  0.13692263, -0.17506674,\n",
       "        0.26678145, -0.14825505,  0.8479237 ,  0.762377  , -0.63523185,\n",
       "        0.79347587,  0.5205625 ,  0.3945681 ,  0.17571825,  0.3311888 ,\n",
       "        0.22888757, -0.29438573], dtype=float32)"
      ]
     },
     "execution_count": 42,
     "metadata": {},
     "output_type": "execute_result"
    }
   ],
   "source": [
    "embeddings[0]"
   ]
  },
  {
   "cell_type": "code",
   "execution_count": 9,
   "metadata": {},
   "outputs": [],
   "source": [
    "import networkx as nx"
   ]
  },
  {
   "cell_type": "code",
   "execution_count": 28,
   "metadata": {},
   "outputs": [],
   "source": [
    "# data = \"hfc\"\n",
    "data = \"brg\""
   ]
  },
  {
   "cell_type": "code",
   "execution_count": 29,
   "metadata": {},
   "outputs": [],
   "source": [
    "# path = \"/auto/grad_space/zihend1/\"+data+\"/Matrix/corr_0_1.npy\"\n",
    "path = \"/auto/grad_space/zihend1/Share2ZHD/\"+data+\"/Matrix/corr_0_1.npy\""
   ]
  },
  {
   "cell_type": "code",
   "execution_count": 30,
   "metadata": {},
   "outputs": [],
   "source": [
    "corr = np.load(path)"
   ]
  },
  {
   "cell_type": "code",
   "execution_count": 31,
   "metadata": {},
   "outputs": [
    {
     "data": {
      "text/plain": [
       "(2329, 2329)"
      ]
     },
     "execution_count": 31,
     "metadata": {},
     "output_type": "execute_result"
    }
   ],
   "source": [
    "corr.shape"
   ]
  },
  {
   "cell_type": "code",
   "execution_count": 32,
   "metadata": {},
   "outputs": [
    {
     "data": {
      "text/plain": [
       "(array([   0,    0,    0, ..., 2328, 2328, 2328]),\n",
       " array([  48,   59,   66, ..., 2283, 2284, 2285]))"
      ]
     },
     "execution_count": 32,
     "metadata": {},
     "output_type": "execute_result"
    }
   ],
   "source": [
    "np.where(corr==0)"
   ]
  },
  {
   "cell_type": "code",
   "execution_count": 33,
   "metadata": {},
   "outputs": [],
   "source": [
    "dt = [(\"weight\", float)]\n",
    "A = np.array(corr, dtype=dt)\n",
    "G = nx.from_numpy_matrix(A)"
   ]
  },
  {
   "cell_type": "code",
   "execution_count": 34,
   "metadata": {},
   "outputs": [
    {
     "data": {
      "text/plain": [
       "{'weight': 0.9715059084824061}"
      ]
     },
     "execution_count": 34,
     "metadata": {},
     "output_type": "execute_result"
    }
   ],
   "source": [
    "G[0][1]"
   ]
  },
  {
   "cell_type": "code",
   "execution_count": 35,
   "metadata": {},
   "outputs": [],
   "source": [
    "nx.write_weighted_edgelist(G, data+\".weighted.edgelist\")"
   ]
  },
  {
   "cell_type": "code",
   "execution_count": 25,
   "metadata": {},
   "outputs": [],
   "source": [
    "# with open('weighted_edgelist.txt', 'w') as f:\n",
    "#     for i in range(corr.shape[0]):\n",
    "#         for j in range(corr.shape[1]):\n",
    "#             if corr[i][j]>0:\n",
    "#                 f.write(str(i)+\" \"+str(j)+\" \"+str(corr[i][j])+\"\\n\")"
   ]
  },
  {
   "cell_type": "code",
   "execution_count": 6,
   "metadata": {},
   "outputs": [],
   "source": [
    "a=np.load(\"/auto/grad_space/zihend1/brg/Embedding/corr_0_1_VERSE_32_temp.npy\")"
   ]
  },
  {
   "cell_type": "code",
   "execution_count": 7,
   "metadata": {},
   "outputs": [
    {
     "data": {
      "text/plain": [
       "(10, 32)"
      ]
     },
     "execution_count": 7,
     "metadata": {},
     "output_type": "execute_result"
    }
   ],
   "source": [
    "a.shape"
   ]
  },
  {
   "cell_type": "code",
   "execution_count": null,
   "metadata": {},
   "outputs": [],
   "source": []
  }
 ],
 "metadata": {
  "kernelspec": {
   "display_name": "py37",
   "language": "python",
   "name": "py37"
  },
  "language_info": {
   "codemirror_mode": {
    "name": "ipython",
    "version": 3
   },
   "file_extension": ".py",
   "mimetype": "text/x-python",
   "name": "python",
   "nbconvert_exporter": "python",
   "pygments_lexer": "ipython3",
   "version": "3.7.11"
  }
 },
 "nbformat": 4,
 "nbformat_minor": 4
}
