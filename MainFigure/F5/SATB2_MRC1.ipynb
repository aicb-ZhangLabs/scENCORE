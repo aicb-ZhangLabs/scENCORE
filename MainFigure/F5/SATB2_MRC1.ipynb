{
 "cells": [
  {
   "cell_type": "code",
   "execution_count": 1,
   "id": "e92458f4",
   "metadata": {},
   "outputs": [],
   "source": [
    "import csv\n",
    "import numpy as np\n",
    "import pandas as pd\n",
    "import anndata as ad\n",
    "import scanpy as sc\n",
    "import matplotlib\n",
    "import matplotlib.pyplot as plt\n",
    "from matplotlib.pyplot import MultipleLocator\n",
    "import umap.umap_ as umap\n",
    "from scipy.linalg import eigh as largest_eigh\n",
    "import sklearn\n",
    "\n",
    "from scipy.linalg import orthogonal_procrustes"
   ]
  },
  {
   "cell_type": "code",
   "execution_count": 2,
   "id": "247747f6",
   "metadata": {},
   "outputs": [],
   "source": [
    "HiC_Exc = pd.read_csv(\"/lv_scratch/scratch/share/scENCORE_brain/ZD_SS_ShareData/SAI_results/single_cell_eigens/Exc/eigen.txt\", sep='\\t', names=[\"chr\", \"start\", \"end\", \"compartment\", \"eigen\"], index_col=False)\n",
    "bin_df = pd.read_csv(\"/lv_scratch/scratch/share/scENCORE_brain/ZD_SS_ShareData/gap.blacklist.hg38.1000000.4col.autosomal.bed\", sep='\\t', names=[\"chr\",\"start\",\"end\",\"name\"])\n",
    "delete_bins = np.load(\"/lv_scratch/scratch/share/scENCORE_brain/ZD_SS_ShareData/Cross-Sample/1000K_resolution/delete_bins.npy\")\n",
    "bin_df_new = bin_df.drop(delete_bins).reset_index(drop=True)"
   ]
  },
  {
   "cell_type": "code",
   "execution_count": 43,
   "id": "0b96f386",
   "metadata": {},
   "outputs": [
    {
     "data": {
      "text/html": [
       "<div>\n",
       "<style scoped>\n",
       "    .dataframe tbody tr th:only-of-type {\n",
       "        vertical-align: middle;\n",
       "    }\n",
       "\n",
       "    .dataframe tbody tr th {\n",
       "        vertical-align: top;\n",
       "    }\n",
       "\n",
       "    .dataframe thead th {\n",
       "        text-align: right;\n",
       "    }\n",
       "</style>\n",
       "<table border=\"1\" class=\"dataframe\">\n",
       "  <thead>\n",
       "    <tr style=\"text-align: right;\">\n",
       "      <th></th>\n",
       "      <th>chr</th>\n",
       "      <th>start</th>\n",
       "      <th>end</th>\n",
       "      <th>name</th>\n",
       "    </tr>\n",
       "  </thead>\n",
       "  <tbody>\n",
       "    <tr>\n",
       "      <th>228</th>\n",
       "      <td>chr2</td>\n",
       "      <td>15000000</td>\n",
       "      <td>16000000</td>\n",
       "      <td>chr2_16</td>\n",
       "    </tr>\n",
       "  </tbody>\n",
       "</table>\n",
       "</div>"
      ],
      "text/plain": [
       "      chr     start       end     name\n",
       "228  chr2  15000000  16000000  chr2_16"
      ]
     },
     "execution_count": 43,
     "metadata": {},
     "output_type": "execute_result"
    }
   ],
   "source": [
    "bin_df_new[bin_df_new.name==\"chr2_16\"]"
   ]
  },
  {
   "cell_type": "code",
   "execution_count": 38,
   "id": "50c9385c",
   "metadata": {},
   "outputs": [
    {
     "data": {
      "text/html": [
       "<div>\n",
       "<style scoped>\n",
       "    .dataframe tbody tr th:only-of-type {\n",
       "        vertical-align: middle;\n",
       "    }\n",
       "\n",
       "    .dataframe tbody tr th {\n",
       "        vertical-align: top;\n",
       "    }\n",
       "\n",
       "    .dataframe thead th {\n",
       "        text-align: right;\n",
       "    }\n",
       "</style>\n",
       "<table border=\"1\" class=\"dataframe\">\n",
       "  <thead>\n",
       "    <tr style=\"text-align: right;\">\n",
       "      <th></th>\n",
       "      <th>chr</th>\n",
       "      <th>start</th>\n",
       "      <th>end</th>\n",
       "      <th>name</th>\n",
       "    </tr>\n",
       "  </thead>\n",
       "  <tbody>\n",
       "    <tr>\n",
       "      <th>384</th>\n",
       "      <td>chr2</td>\n",
       "      <td>199000000</td>\n",
       "      <td>200000000</td>\n",
       "      <td>chr2_200</td>\n",
       "    </tr>\n",
       "  </tbody>\n",
       "</table>\n",
       "</div>"
      ],
      "text/plain": [
       "      chr      start        end      name\n",
       "384  chr2  199000000  200000000  chr2_200"
      ]
     },
     "execution_count": 38,
     "metadata": {},
     "output_type": "execute_result"
    }
   ],
   "source": [
    "bin_df_new[bin_df_new.name==\"chr2_200\"]"
   ]
  },
  {
   "cell_type": "code",
   "execution_count": 39,
   "id": "c9902c8e",
   "metadata": {},
   "outputs": [
    {
     "data": {
      "text/html": [
       "<div>\n",
       "<style scoped>\n",
       "    .dataframe tbody tr th:only-of-type {\n",
       "        vertical-align: middle;\n",
       "    }\n",
       "\n",
       "    .dataframe tbody tr th {\n",
       "        vertical-align: top;\n",
       "    }\n",
       "\n",
       "    .dataframe thead th {\n",
       "        text-align: right;\n",
       "    }\n",
       "</style>\n",
       "<table border=\"1\" class=\"dataframe\">\n",
       "  <thead>\n",
       "    <tr style=\"text-align: right;\">\n",
       "      <th></th>\n",
       "      <th>chr</th>\n",
       "      <th>start</th>\n",
       "      <th>end</th>\n",
       "      <th>name</th>\n",
       "    </tr>\n",
       "  </thead>\n",
       "  <tbody>\n",
       "    <tr>\n",
       "      <th>1387</th>\n",
       "      <td>chr10</td>\n",
       "      <td>17000000</td>\n",
       "      <td>18000000</td>\n",
       "      <td>chr10_18</td>\n",
       "    </tr>\n",
       "  </tbody>\n",
       "</table>\n",
       "</div>"
      ],
      "text/plain": [
       "        chr     start       end      name\n",
       "1387  chr10  17000000  18000000  chr10_18"
      ]
     },
     "execution_count": 39,
     "metadata": {},
     "output_type": "execute_result"
    }
   ],
   "source": [
    "bin_df_new[bin_df_new.name==\"chr10_18\"]"
   ]
  },
  {
   "cell_type": "code",
   "execution_count": null,
   "id": "4f3211a7",
   "metadata": {},
   "outputs": [],
   "source": []
  },
  {
   "cell_type": "code",
   "execution_count": 4,
   "id": "aa2122de",
   "metadata": {},
   "outputs": [],
   "source": [
    "bulk_feature = np.load(\"/lv_scratch/scratch/share/scENCORE_brain/ZD_SS_ShareData/Bulk-ATAC-seq/hfc/feature.npy\")\n",
    "CON_Exc_feature = np.load(\"/lv_scratch/scratch/share/scENCORE_brain/ZD_SS_ShareData/Cross-Sample/1000K_resolution/3_CON/cell_type/Exc/raw/feature.npy\")\n",
    "CON_Mic_feature = np.load(\"/lv_scratch/scratch/share/scENCORE_brain/ZD_SS_ShareData/Cross-Sample/1000K_resolution/3_CON/cell_type/Mic/raw/feature.npy\")"
   ]
  },
  {
   "cell_type": "code",
   "execution_count": 5,
   "id": "801ea32e",
   "metadata": {},
   "outputs": [],
   "source": [
    "bulk_emb = np.load(\"/lv_scratch/scratch/share/scENCORE_brain/ZD_SS_ShareData/Bulk-ATAC-seq/hfc/Embedding/corr_0_1_VERSE_32.npy\")\n",
    "CON_Exc_emb = np.load(\"/lv_scratch/scratch/share/scENCORE_brain/ZD_SS_ShareData/Cross-Sample/1000K_resolution/3_CON/cell_type/Exc/200_metacell/Embedding/corr_0_1_VERSE_32.npy\")\n",
    "CON_Mic_emb = np.load(\"/lv_scratch/scratch/share/scENCORE_brain/ZD_SS_ShareData/Cross-Sample/1000K_resolution/3_CON/cell_type/Mic/200_metacell/Embedding/corr_0_1_VERSE_32.npy\")"
   ]
  },
  {
   "cell_type": "code",
   "execution_count": 9,
   "id": "8603a5f0",
   "metadata": {},
   "outputs": [],
   "source": [
    "CON_Exc_emb = (CON_Exc_emb-np.min(CON_Exc_emb))/(np.max(CON_Exc_emb)-np.min(CON_Exc_emb))\n",
    "CON_Mic_emb = (CON_Mic_emb-np.min(CON_Mic_emb))/(np.max(CON_Mic_emb)-np.min(CON_Mic_emb))"
   ]
  },
  {
   "cell_type": "code",
   "execution_count": 10,
   "id": "70da3786",
   "metadata": {},
   "outputs": [],
   "source": [
    "R, _ = orthogonal_procrustes(CON_Exc_emb, CON_Mic_emb)\n",
    "transfer_Exc = CON_Exc_emb @ R"
   ]
  },
  {
   "cell_type": "code",
   "execution_count": 16,
   "id": "fe35774a",
   "metadata": {},
   "outputs": [],
   "source": [
    "D = np.sqrt(np.sum((transfer_Exc - CON_Mic_emb)**2, axis=1))"
   ]
  },
  {
   "cell_type": "code",
   "execution_count": 20,
   "id": "1b6354ff",
   "metadata": {},
   "outputs": [
    {
     "data": {
      "text/plain": [
       "array([0.6319639 , 0.5313983 , 0.57954955, ..., 0.5485235 , 0.5908312 ,\n",
       "       0.73517495], dtype=float32)"
      ]
     },
     "execution_count": 20,
     "metadata": {},
     "output_type": "execute_result"
    }
   ],
   "source": [
    "D"
   ]
  },
  {
   "cell_type": "code",
   "execution_count": 32,
   "id": "169b992b",
   "metadata": {},
   "outputs": [
    {
     "data": {
      "text/plain": [
       "0.6321205588285577"
      ]
     },
     "execution_count": 32,
     "metadata": {},
     "output_type": "execute_result"
    }
   ],
   "source": [
    "1-np.exp(-1)"
   ]
  },
  {
   "cell_type": "code",
   "execution_count": 30,
   "id": "18adea5c",
   "metadata": {},
   "outputs": [],
   "source": [
    "CSS = 1-np.exp(-D)"
   ]
  },
  {
   "cell_type": "code",
   "execution_count": 31,
   "id": "93d234a8",
   "metadata": {},
   "outputs": [
    {
     "data": {
      "text/plain": [
       "0.536148"
      ]
     },
     "execution_count": 31,
     "metadata": {},
     "output_type": "execute_result"
    }
   ],
   "source": [
    "CSS[384]"
   ]
  },
  {
   "cell_type": "code",
   "execution_count": 40,
   "id": "4b8c01b9",
   "metadata": {},
   "outputs": [
    {
     "data": {
      "text/plain": [
       "0.5861143"
      ]
     },
     "execution_count": 40,
     "metadata": {},
     "output_type": "execute_result"
    }
   ],
   "source": [
    "CSS[1387]"
   ]
  },
  {
   "cell_type": "code",
   "execution_count": 25,
   "id": "cbdaecb0",
   "metadata": {},
   "outputs": [
    {
     "data": {
      "text/plain": [
       "array([2097, 1558, 2321, ..., 1389, 1480,  751])"
      ]
     },
     "execution_count": 25,
     "metadata": {},
     "output_type": "execute_result"
    }
   ],
   "source": [
    "np.argsort(D)"
   ]
  },
  {
   "cell_type": "code",
   "execution_count": 23,
   "id": "05f3a4ae",
   "metadata": {},
   "outputs": [
    {
     "data": {
      "text/plain": [
       "(0.32959774, 0.929872)"
      ]
     },
     "execution_count": 23,
     "metadata": {},
     "output_type": "execute_result"
    }
   ],
   "source": [
    "D[2097], D[751]"
   ]
  },
  {
   "cell_type": "code",
   "execution_count": 26,
   "id": "84d4a964",
   "metadata": {},
   "outputs": [
    {
     "data": {
      "text/plain": [
       "(array([2074]),)"
      ]
     },
     "execution_count": 26,
     "metadata": {},
     "output_type": "execute_result"
    }
   ],
   "source": [
    "np.where(np.argsort(D) == 384)"
   ]
  },
  {
   "cell_type": "code",
   "execution_count": 28,
   "id": "2e3fa6ac",
   "metadata": {},
   "outputs": [
    {
     "data": {
      "text/plain": [
       "255"
      ]
     },
     "execution_count": 28,
     "metadata": {},
     "output_type": "execute_result"
    }
   ],
   "source": [
    "2329-2074"
   ]
  },
  {
   "cell_type": "code",
   "execution_count": 41,
   "id": "cb0ffd7f",
   "metadata": {},
   "outputs": [
    {
     "data": {
      "text/plain": [
       "(array([2320]),)"
      ]
     },
     "execution_count": 41,
     "metadata": {},
     "output_type": "execute_result"
    }
   ],
   "source": [
    "np.where(np.argsort(D) == 1387)"
   ]
  },
  {
   "cell_type": "code",
   "execution_count": 42,
   "id": "2e310c91",
   "metadata": {},
   "outputs": [
    {
     "data": {
      "text/plain": [
       "9"
      ]
     },
     "execution_count": 42,
     "metadata": {},
     "output_type": "execute_result"
    }
   ],
   "source": [
    "2329-2320"
   ]
  },
  {
   "cell_type": "code",
   "execution_count": null,
   "id": "35c9efd3",
   "metadata": {},
   "outputs": [],
   "source": []
  }
 ],
 "metadata": {
  "kernelspec": {
   "display_name": "scENCORE_py37",
   "language": "python",
   "name": "scencore_py37"
  },
  "language_info": {
   "codemirror_mode": {
    "name": "ipython",
    "version": 3
   },
   "file_extension": ".py",
   "mimetype": "text/x-python",
   "name": "python",
   "nbconvert_exporter": "python",
   "pygments_lexer": "ipython3",
   "version": "3.7.0"
  }
 },
 "nbformat": 4,
 "nbformat_minor": 5
}
