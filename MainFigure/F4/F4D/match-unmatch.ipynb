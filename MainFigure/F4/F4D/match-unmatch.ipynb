{
 "cells": [
  {
   "cell_type": "code",
   "execution_count": 13,
   "id": "c35f14c9",
   "metadata": {},
   "outputs": [],
   "source": [
    "import numpy as np\n",
    "from scipy import stats"
   ]
  },
  {
   "cell_type": "code",
   "execution_count": 5,
   "id": "75173512",
   "metadata": {},
   "outputs": [],
   "source": [
    "Exc_a = np.load(\"/home/zihend1/scENCORE/MainFigure/F4/F4D/match-vs-nonmatch/Exc/H3K27ac/match/A_comp.npy\")"
   ]
  },
  {
   "cell_type": "code",
   "execution_count": 6,
   "id": "ce94eae6",
   "metadata": {},
   "outputs": [
    {
     "data": {
      "text/plain": [
       "1.0863502550104176"
      ]
     },
     "execution_count": 6,
     "metadata": {},
     "output_type": "execute_result"
    }
   ],
   "source": [
    "np.mean(Exc_a)"
   ]
  },
  {
   "cell_type": "code",
   "execution_count": 7,
   "id": "111455af",
   "metadata": {},
   "outputs": [],
   "source": [
    "Exc_b = np.load(\"/home/zihend1/scENCORE/MainFigure/F4/F4D/match-vs-nonmatch/Exc/H3K27ac/match/B_comp.npy\")"
   ]
  },
  {
   "cell_type": "code",
   "execution_count": 8,
   "id": "da564e96",
   "metadata": {},
   "outputs": [
    {
     "data": {
      "text/plain": [
       "0.5743169883411338"
      ]
     },
     "execution_count": 8,
     "metadata": {},
     "output_type": "execute_result"
    }
   ],
   "source": [
    "np.mean(Exc_b)"
   ]
  },
  {
   "cell_type": "code",
   "execution_count": 14,
   "id": "9b8d11c5",
   "metadata": {},
   "outputs": [
    {
     "data": {
      "text/plain": [
       "Ttest_indResult(statistic=34.31188658635437, pvalue=1.814873823164282e-208)"
      ]
     },
     "execution_count": 14,
     "metadata": {},
     "output_type": "execute_result"
    }
   ],
   "source": [
    "stats.ttest_ind(Exc_a,Exc_b)"
   ]
  },
  {
   "cell_type": "code",
   "execution_count": null,
   "id": "e8dac465",
   "metadata": {},
   "outputs": [],
   "source": []
  },
  {
   "cell_type": "code",
   "execution_count": 9,
   "id": "3d2f4423",
   "metadata": {},
   "outputs": [],
   "source": [
    "Mic_a = np.load(\"/home/zihend1/scENCORE/MainFigure/F4/F4D/match-vs-nonmatch/Mic/H3K27ac/match/A_comp.npy\")"
   ]
  },
  {
   "cell_type": "code",
   "execution_count": 10,
   "id": "b9ae9f53",
   "metadata": {},
   "outputs": [
    {
     "data": {
      "text/plain": [
       "1.0416416713731695"
      ]
     },
     "execution_count": 10,
     "metadata": {},
     "output_type": "execute_result"
    }
   ],
   "source": [
    "np.mean(Mic_a)"
   ]
  },
  {
   "cell_type": "code",
   "execution_count": 11,
   "id": "40589635",
   "metadata": {},
   "outputs": [],
   "source": [
    "Mic_b = np.load(\"/home/zihend1/scENCORE/MainFigure/F4/F4D/match-vs-nonmatch/Mic/H3K27ac/match/B_comp.npy\")"
   ]
  },
  {
   "cell_type": "code",
   "execution_count": 12,
   "id": "41c76de8",
   "metadata": {},
   "outputs": [
    {
     "data": {
      "text/plain": [
       "0.6308572460779266"
      ]
     },
     "execution_count": 12,
     "metadata": {},
     "output_type": "execute_result"
    }
   ],
   "source": [
    "np.mean(Mic_b)"
   ]
  },
  {
   "cell_type": "code",
   "execution_count": 15,
   "id": "00ad6f22",
   "metadata": {},
   "outputs": [
    {
     "data": {
      "text/plain": [
       "Ttest_indResult(statistic=18.77246506188028, pvalue=3.098674959795781e-73)"
      ]
     },
     "execution_count": 15,
     "metadata": {},
     "output_type": "execute_result"
    }
   ],
   "source": [
    "stats.ttest_ind(Mic_a,Mic_b)"
   ]
  },
  {
   "cell_type": "code",
   "execution_count": null,
   "id": "a436c68d",
   "metadata": {},
   "outputs": [],
   "source": []
  }
 ],
 "metadata": {
  "kernelspec": {
   "display_name": "scENCORE_py37",
   "language": "python",
   "name": "scencore_py37"
  },
  "language_info": {
   "codemirror_mode": {
    "name": "ipython",
    "version": 3
   },
   "file_extension": ".py",
   "mimetype": "text/x-python",
   "name": "python",
   "nbconvert_exporter": "python",
   "pygments_lexer": "ipython3",
   "version": "3.7.0"
  }
 },
 "nbformat": 4,
 "nbformat_minor": 5
}
